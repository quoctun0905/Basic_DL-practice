{
  "nbformat": 4,
  "nbformat_minor": 0,
  "metadata": {
    "colab": {
      "private_outputs": true,
      "provenance": []
    },
    "kernelspec": {
      "name": "python3",
      "display_name": "Python 3"
    },
    "language_info": {
      "name": "python"
    }
  },
  "cells": [
    {
      "cell_type": "code",
      "execution_count": null,
      "metadata": {
        "id": "ZZbSLE0C8Nc1"
      },
      "outputs": [],
      "source": [
        "# Bài thực hành 2: Dự đoán giá nhà với Mạng nơ-ron\n",
        "# ===================================================================================="
      ]
    },
    {
      "cell_type": "code",
      "source": [
        "# Import các thư viện cần thiết\n",
        "import numpy as np\n",
        "import pandas as pd\n",
        "import matplotlib.pyplot as plt\n",
        "import seaborn as sns\n",
        "# fetch_california_housing: Hàm tải bộ dữ liệu California Housing\n",
        "from sklearn.datasets import fetch_california_housing\n",
        "# train_test_split: Hàm chia dữ liệu thành tập huấn luyện và tập kiểm tra\n",
        "from sklearn.model_selection import train_test_split\n",
        "# StandardScaler: Công cụ chuẩn hóa dữ liệu\n",
        "from sklearn.preprocessing import StandardScaler\n",
        "# Các thành phần từ TensorFlow/Keras để xây dựng mạng nơ-ron\n",
        "from tensorflow.keras.models import Sequential\n",
        "from tensorflow.keras.layers import Dense\n",
        "# Các hàm đánh giá mô hình\n",
        "from sklearn.metrics import mean_squared_error, r2_score, mean_absolute_error"
      ],
      "metadata": {
        "id": "q0uyp1tU-BB7"
      },
      "execution_count": null,
      "outputs": []
    },
    {
      "cell_type": "code",
      "source": [
        "# -------------------------------------------------------------\n",
        "# STEP 1: TẢI DỮ LIỆU CALIFORNIA HOUSING\n",
        "# -------------------------------------------------------------\n",
        "print(\"Step 1: Tải bộ dữ liệu California Housing\")\n",
        "\n",
        "# fetch_california_housing(): Hàm tải bộ dữ liệu California Housing từ scikit-learn\n",
        "# Bộ dữ liệu này chứa thông tin về giá nhà ở các khu vực của California\n",
        "data = fetch_california_housing()\n",
        "\n",
        "# Tách dữ liệu thành đặc trưng (X) và biến mục tiêu (y)\n",
        "# data.data: Ma trận đặc trưng\n",
        "# data.target: Vector mục tiêu (giá nhà)\n",
        "X, y = data.data, data.target\n",
        "\n",
        "# Chuyển đổi dữ liệu thành DataFrame để dễ xử lý\n",
        "# data.feature_names: Tên của các đặc trưng\n",
        "feature_names = data.feature_names\n",
        "# pd.DataFrame(): Tạo DataFrame từ ma trận đặc trưng và tên cột\n",
        "df = pd.DataFrame(X, columns=feature_names)\n",
        "# Thêm cột 'Price' (giá nhà) vào DataFrame\n",
        "df['Price'] = y\n",
        "\n",
        "# Hiển thị thông tin về bộ dữ liệu\n",
        "# df.shape: Kích thước của DataFrame (số hàng, số cột)\n",
        "print(f\"Kích thước dữ liệu: {df.shape}\")\n",
        "print(f\"Số lượng mẫu: {df.shape[0]}\")\n",
        "# Trừ đi 1 vì cột cuối cùng là giá nhà (biến mục tiêu)\n",
        "print(f\"Số lượng đặc trưng: {df.shape[1] - 1}\")\n",
        "\n",
        "# In thông tin về các đặc trưng\n",
        "print(\"\\nThông tin về các đặc trưng:\")\n",
        "for i, name in enumerate(feature_names):\n",
        "    print(f\"{i+1}. {name}\")\n",
        "\n",
        "# Hiển thị 5 mẫu đầu tiên\n",
        "# df.head(): Lấy 5 hàng đầu tiên của DataFrame\n",
        "print(\"\\n5 mẫu đầu tiên:\")\n",
        "print(df.head())\n",
        "\n",
        "# Thống kê mô tả\n",
        "# df.describe(): Tính toán các thống kê cơ bản (trung bình, độ lệch chuẩn, min, max...)\n",
        "print(\"\\nThống kê mô tả:\")\n",
        "print(df.describe())\n"
      ],
      "metadata": {
        "id": "KnZEQ_Ny-SzI"
      },
      "execution_count": null,
      "outputs": []
    },
    {
      "cell_type": "code",
      "source": [
        "# -------------------------------------------------------------\n",
        "# STEP 2: KHÁM PHÁ DỮ LIỆU (EDA - EXPLORATORY DATA ANALYSIS)\n",
        "# -------------------------------------------------------------\n",
        "print(\"\\nStep 2: Khám phá dữ liệu\")\n",
        "\n",
        "# Vẽ histogram cho biến mục tiêu (giá nhà)\n",
        "# plt.figure(): Tạo một figure mới với kích thước 10x6 inch\n",
        "plt.figure(figsize=(10, 6))\n",
        "# plt.hist(): Vẽ histogram\n",
        "# bins=50: Chia dữ liệu thành 50 khoảng\n",
        "plt.hist(y, bins=50)\n",
        "plt.xlabel('Giá nhà (đơn vị $100,000)')\n",
        "plt.ylabel('Số lượng')\n",
        "plt.title('Phân phối giá nhà ở California')\n",
        "plt.show()\n",
        "\n",
        "# Tính toán ma trận tương quan\n",
        "# df.corr(): Tính ma trận tương quan giữa các cột trong DataFrame\n",
        "plt.figure(figsize=(12, 8))\n",
        "correlation_matrix = df.corr()\n",
        "# sns.heatmap(): Vẽ biểu đồ heatmap cho ma trận tương quan\n",
        "# annot=True: Hiển thị giá trị trong mỗi ô\n",
        "# cmap='coolwarm': Sử dụng bảng màu từ xanh (tương quan âm) đến đỏ (tương quan dương)\n",
        "# fmt=\".2f\": Định dạng số với 2 chữ số thập phân\n",
        "sns.heatmap(correlation_matrix, annot=True, cmap='coolwarm', fmt=\".2f\")\n",
        "plt.title('Ma trận tương quan')\n",
        "plt.show()\n",
        "\n",
        "# Vẽ các biểu đồ scatter plot để xem mối quan hệ giữa một số đặc trưng và giá nhà\n",
        "plt.figure(figsize=(15, 10))\n",
        "\n",
        "# Mối quan hệ giữa thu nhập trung bình và giá nhà\n",
        "# plt.subplot(2, 2, 1): Chia figure thành 2 hàng, 2 cột và chọn vị trí 1\n",
        "plt.subplot(2, 2, 1)\n",
        "# plt.scatter(): Vẽ biểu đồ scatter (phân tán)\n",
        "# alpha=0.5: Độ trong suốt của điểm (0: trong suốt hoàn toàn, 1: không trong suốt)\n",
        "plt.scatter(df['MedInc'], df['Price'], alpha=0.5)\n",
        "plt.xlabel('Thu nhập trung bình')\n",
        "plt.ylabel('Giá nhà ($100,000)')\n",
        "plt.title('Thu nhập vs Giá nhà')\n",
        "\n",
        "# Mối quan hệ giữa tuổi nhà và giá nhà\n",
        "plt.subplot(2, 2, 2)\n",
        "plt.scatter(df['HouseAge'], df['Price'], alpha=0.5)\n",
        "plt.xlabel('Tuổi nhà')\n",
        "plt.ylabel('Giá nhà ($100,000)')\n",
        "plt.title('Tuổi nhà vs Giá nhà')\n",
        "\n",
        "# Mối quan hệ giữa số phòng trung bình và giá nhà\n",
        "plt.subplot(2, 2, 3)\n",
        "plt.scatter(df['AveRooms'], df['Price'], alpha=0.5)\n",
        "plt.xlabel('Số phòng trung bình')\n",
        "plt.ylabel('Giá nhà ($100,000)')\n",
        "plt.title('Số phòng vs Giá nhà')\n",
        "\n",
        "# Mối quan hệ giữa vĩ độ và giá nhà\n",
        "plt.subplot(2, 2, 4)\n",
        "plt.scatter(df['Latitude'], df['Price'], alpha=0.5)\n",
        "plt.xlabel('Vĩ độ')\n",
        "plt.ylabel('Giá nhà ($100,000)')\n",
        "plt.title('Vĩ độ vs Giá nhà')\n",
        "\n",
        "plt.tight_layout()\n",
        "plt.show()"
      ],
      "metadata": {
        "id": "Y0FC7lYx-qBE"
      },
      "execution_count": null,
      "outputs": []
    },
    {
      "cell_type": "code",
      "source": [
        "# -------------------------------------------------------------\n",
        "# STEP 3: CHIA TẬP DỮ LIỆU\n",
        "# -------------------------------------------------------------\n",
        "print(\"\\nStep 3: Chia tập dữ liệu thành tập huấn luyện và tập kiểm tra\")\n",
        "\n",
        "# train_test_split(): Chia dữ liệu thành tập huấn luyện và tập kiểm tra\n",
        "# test_size=0.2: 20% dữ liệu dùng cho tập kiểm tra, 80% cho tập huấn luyện\n",
        "# random_state=42: Giá trị khởi tạo cho bộ sinh số ngẫu nhiên, giúp kết quả có thể tái tạo lại\n",
        "X_train, X_test, y_train, y_test = train_test_split(X, y, test_size=0.2, random_state=42)\n",
        "\n",
        "print(f\"Số lượng mẫu huấn luyện: {X_train.shape[0]}\")\n",
        "print(f\"Số lượng mẫu kiểm tra: {X_test.shape[0]}\")"
      ],
      "metadata": {
        "id": "VkunALYL-8KF"
      },
      "execution_count": null,
      "outputs": []
    },
    {
      "cell_type": "code",
      "source": [
        "# -------------------------------------------------------------\n",
        "# STEP 4: CHUẨN HÓA DỮ LIỆU\n",
        "# -------------------------------------------------------------\n",
        "print(\"\\nStep 4: Chuẩn hóa dữ liệu\")\n",
        "\n",
        "# StandardScaler(): Tạo đối tượng chuẩn hóa dữ liệu\n",
        "# Chuẩn hóa dữ liệu giúp mô hình hội tụ nhanh hơn và ổn định hơn\n",
        "scaler = StandardScaler()\n",
        "\n",
        "# fit_transform(): Học tham số chuẩn hóa từ dữ liệu huấn luyện và áp dụng lên chính nó\n",
        "# Biến đổi dữ liệu để có trung bình bằng 0 và độ lệch chuẩn bằng 1\n",
        "X_train = scaler.fit_transform(X_train)\n",
        "\n",
        "# transform(): Áp dụng tham số chuẩn hóa đã học lên dữ liệu kiểm tra\n",
        "# Không fit lại trên dữ liệu kiểm tra để tránh data leakage\n",
        "X_test = scaler.transform(X_test)\n",
        "\n",
        "# Hiển thị giá trị trung bình và độ lệch chuẩn của dữ liệu sau khi chuẩn hóa\n",
        "# np.mean(): Tính giá trị trung bình\n",
        "# axis=0: Tính theo cột\n",
        "print(\"Giá trị trung bình sau khi chuẩn hóa:\")\n",
        "print(np.mean(X_train, axis=0))\n",
        "print(\"\\nĐộ lệch chuẩn sau khi chuẩn hóa:\")\n",
        "print(np.std(X_train, axis=0))"
      ],
      "metadata": {
        "id": "harrDedE_I2i"
      },
      "execution_count": null,
      "outputs": []
    },
    {
      "cell_type": "code",
      "source": [
        "# -------------------------------------------------------------\n",
        "# STEP 5: THIẾT KẾ MẠNG NƠ-RON\n",
        "# -------------------------------------------------------------\n",
        "print(\"\\nStep 5: Thiết kế mạng nơ-ron\")\n",
        "\n",
        "# Sequential(): Tạo mô hình tuần tự (các layer xếp tuần tự)\n",
        "model = Sequential([\n",
        "    # Dense: Lớp kết nối đầy đủ\n",
        "    # 64: Số lượng nơ-ron trong lớp\n",
        "    # activation='relu': Hàm kích hoạt ReLU (Rectified Linear Unit)\n",
        "    # input_shape=(X_train.shape[1],): Kích thước đầu vào là số đặc trưng\n",
        "    Dense(64, activation='relu', input_shape=(X_train.shape[1],)),\n",
        "\n",
        "    # Lớp ẩn thứ hai với 64 nơ-ron\n",
        "    Dense(64, activation='relu'),\n",
        "\n",
        "    # Lớp đầu ra với 1 nơ-ron (dự đoán giá nhà)\n",
        "    # Không có hàm kích hoạt vì đây là bài toán hồi quy\n",
        "    Dense(1)\n",
        "])\n",
        "\n",
        "# Tóm tắt kiến trúc mô hình\n",
        "# Hiển thị số lượng tham số (weights và biases) của mỗi layer và tổng số\n",
        "model.summary()"
      ],
      "metadata": {
        "id": "-9GkOvip_SOs"
      },
      "execution_count": null,
      "outputs": []
    },
    {
      "cell_type": "code",
      "source": [
        "# -------------------------------------------------------------\n",
        "# STEP 6: BIÊN DỊCH VÀ HUẤN LUYỆN MÔ HÌNH\n",
        "# -------------------------------------------------------------\n",
        "print(\"\\nStep 6: Biên dịch và huấn luyện mô hình\")\n",
        "\n",
        "# Biên dịch mô hình\n",
        "# optimizer='adam': Thuật toán tối ưu Adam, phổ biến và hiệu quả\n",
        "# loss='mse': Hàm mất mát Mean Squared Error, phù hợp cho bài toán hồi quy\n",
        "# metrics=['mae']: Theo dõi Mean Absolute Error trong quá trình huấn luyện\n",
        "model.compile(optimizer='adam', loss='mse', metrics=['mae'])"
      ],
      "metadata": {
        "id": "uUXAayFa_WRz"
      },
      "execution_count": null,
      "outputs": []
    },
    {
      "cell_type": "code",
      "source": [
        "# Huấn luyện mô hình\n",
        "# model.fit(): Hàm huấn luyện mô hình\n",
        "# X_train, y_train: Dữ liệu huấn luyện và nhãn\n",
        "# epochs=50: Số lần lặp qua toàn bộ dữ liệu huấn luyện\n",
        "# batch_size=32: Số mẫu được xử lý trong mỗi bước cập nhật\n",
        "# validation_split=0.1: Dùng 10% dữ liệu huấn luyện làm tập validation\n",
        "# verbose=1: Hiển thị thanh tiến trình trong quá trình huấn luyện\n",
        "history = model.fit(\n",
        "    X_train, y_train,\n",
        "    epochs=50,\n",
        "    batch_size=32,\n",
        "    validation_split=0.1,\n",
        "    verbose=1\n",
        ")"
      ],
      "metadata": {
        "id": "ucLZZ1Ab_i-v"
      },
      "execution_count": null,
      "outputs": []
    },
    {
      "cell_type": "code",
      "source": [
        "# -------------------------------------------------------------\n",
        "# STEP 7: ĐÁNH GIÁ MÔ HÌNH\n",
        "# -------------------------------------------------------------\n",
        "print(\"\\nStep 7: Đánh giá mô hình\")\n",
        "\n",
        "# Đánh giá mô hình trên tập kiểm tra\n",
        "# model.evaluate(): Tính toán loss và các metrics trên dữ liệu kiểm tra\n",
        "# verbose=0: Không hiển thị thanh tiến trình\n",
        "test_loss, test_mae = model.evaluate(X_test, y_test, verbose=0)\n",
        "print(f\"Test MAE: {test_mae:.4f}\") # Mean Absolute Error\n",
        "print(f\"Test MSE: {test_loss:.4f}\") # Mean Squared Error"
      ],
      "metadata": {
        "id": "az1ItjFQ_8m6"
      },
      "execution_count": null,
      "outputs": []
    },
    {
      "cell_type": "code",
      "source": [
        "# Dự đoán trên tập kiểm tra\n",
        "# model.predict(): Dự đoán đầu ra cho dữ liệu đầu vào\n",
        "# flatten(): Chuyển mảng 2D thành mảng 1D\n",
        "y_pred = model.predict(X_test).flatten()"
      ],
      "metadata": {
        "id": "8PRWx63K_-t4"
      },
      "execution_count": null,
      "outputs": []
    },
    {
      "cell_type": "code",
      "source": [
        "# Tính các chỉ số đánh giá\n",
        "# mean_squared_error(): Tính MSE giữa giá trị thực và dự đoán\n",
        "mse = mean_squared_error(y_test, y_pred)\n",
        "# np.sqrt(): Tính căn bậc hai để có RMSE\n",
        "rmse = np.sqrt(mse)\n",
        "# mean_absolute_error(): Tính MAE giữa giá trị thực và dự đoán\n",
        "mae = mean_absolute_error(y_test, y_pred)\n",
        "# r2_score(): Tính hệ số R² (0-1, càng gần 1 càng tốt)\n",
        "r2 = r2_score(y_test, y_pred)\n",
        "\n",
        "print(f\"Mean Squared Error (MSE): {mse:.4f}\")\n",
        "print(f\"Root Mean Squared Error (RMSE): {rmse:.4f}\")\n",
        "print(f\"Mean Absolute Error (MAE): {mae:.4f}\")\n",
        "print(f\"R-squared (R²): {r2:.4f}\")"
      ],
      "metadata": {
        "id": "B_5CKYDJAHcw"
      },
      "execution_count": null,
      "outputs": []
    },
    {
      "cell_type": "code",
      "source": [
        "# Vẽ đồ thị quá trình huấn luyện\n",
        "plt.figure(figsize=(12, 4))\n",
        "\n",
        "# Đồ thị MAE\n",
        "plt.subplot(1, 2, 1)\n",
        "# history.history['mae']: MAE trên tập huấn luyện\n",
        "plt.plot(history.history['mae'], label='Training MAE')\n",
        "# history.history['val_mae']: MAE trên tập validation\n",
        "plt.plot(history.history['val_mae'], label='Validation MAE')\n",
        "plt.title('MAE over epochs')\n",
        "plt.xlabel('Epochs')\n",
        "plt.ylabel('MAE')\n",
        "plt.legend()\n",
        "\n",
        "# Đồ thị mất mát (MSE)\n",
        "plt.subplot(1, 2, 2)\n",
        "# history.history['loss']: Mất mát trên tập huấn luyện\n",
        "plt.plot(history.history['loss'], label='Training Loss')\n",
        "# history.history['val_loss']: Mất mát trên tập validation\n",
        "plt.plot(history.history['val_loss'], label='Validation Loss')\n",
        "plt.title('Loss over epochs')\n",
        "plt.xlabel('Epochs')\n",
        "plt.ylabel('Loss (MSE)')\n",
        "plt.legend()\n",
        "\n",
        "plt.tight_layout()\n",
        "plt.show()"
      ],
      "metadata": {
        "id": "PT4xm9CsAMUX"
      },
      "execution_count": null,
      "outputs": []
    },
    {
      "cell_type": "code",
      "source": [
        "# -------------------------------------------------------------\n",
        "# STEP 8: TRỰC QUAN HÓA KẾT QUẢ DỰ ĐOÁN\n",
        "# -------------------------------------------------------------\n",
        "print(\"\\nStep 8: Trực quan hóa kết quả dự đoán\")\n",
        "\n",
        "# So sánh giá trị thực tế và dự đoán\n",
        "plt.figure(figsize=(10, 6))\n",
        "# plt.scatter(): Vẽ biểu đồ scatter (phân tán)\n",
        "plt.scatter(y_test, y_pred, alpha=0.5)\n",
        "# Vẽ đường chéo y=x (dự đoán hoàn hảo)\n",
        "plt.plot([y_test.min(), y_test.max()], [y_test.min(), y_test.max()], 'r--')\n",
        "plt.xlabel('Giá thực tế ($100,000)')\n",
        "plt.ylabel('Giá dự đoán ($100,000)')\n",
        "plt.title('So sánh giá thực tế và giá dự đoán')\n",
        "plt.show()\n",
        "\n",
        "# Hiển thị phân phối của sai số\n",
        "# errors: Sai số giữa giá trị dự đoán và giá trị thực\n",
        "errors = y_pred - y_test\n",
        "plt.figure(figsize=(10, 6))\n",
        "plt.hist(errors, bins=50)\n",
        "plt.xlabel('Sai số dự đoán')\n",
        "plt.ylabel('Số lượng')\n",
        "plt.title('Phân phối sai số dự đoán')\n",
        "# Vẽ đường dọc tại x=0\n",
        "plt.axvline(x=0, color='r', linestyle='--')\n",
        "plt.show()"
      ],
      "metadata": {
        "id": "upUye-4MAZ4v"
      },
      "execution_count": null,
      "outputs": []
    },
    {
      "cell_type": "code",
      "source": [
        "# -------------------------------------------------------------\n",
        "# STEP 9: THỬ NGHIỆM MÔ HÌNH VỚI CÁC VÍ DỤ CỤ THỂ\n",
        "# -------------------------------------------------------------\n",
        "print(\"\\nStep 9: Thử nghiệm mô hình với các ví dụ cụ thể\")\n",
        "\n",
        "# Chọn 5 mẫu ngẫu nhiên từ tập kiểm tra\n",
        "# np.random.randint(): Tạo số nguyên ngẫu nhiên\n",
        "# len(X_test): Số lượng mẫu trong tập kiểm tra\n",
        "sample_indices = np.random.randint(0, len(X_test), 5)\n",
        "sample_X = X_test[sample_indices]\n",
        "sample_y_true = y_test[sample_indices]\n",
        "sample_y_pred = model.predict(sample_X).flatten()\n",
        "\n",
        "# Tạo bảng so sánh\n",
        "# pd.DataFrame(): Tạo DataFrame với các cột chỉ định\n",
        "comparison_df = pd.DataFrame({\n",
        "    'Giá thực tế': sample_y_true,\n",
        "    'Giá dự đoán': sample_y_pred,\n",
        "    'Sai số': sample_y_pred - sample_y_true,\n",
        "    'Sai số phần trăm': ((sample_y_pred - sample_y_true) / sample_y_true) * 100\n",
        "})\n",
        "print(\"So sánh dự đoán cho 5 mẫu ngẫu nhiên:\")\n",
        "print(comparison_df)\n"
      ],
      "metadata": {
        "id": "8ggmKW4ZAeU8"
      },
      "execution_count": null,
      "outputs": []
    },
    {
      "cell_type": "code",
      "source": [
        "# -------------------------------------------------------------\n",
        "# STEP 10: CẢI THIỆN MÔ HÌNH (TÙY CHỌN)\n",
        "# -------------------------------------------------------------\n",
        "print(\"\\nStep 10: Thử nghiệm cải thiện mô hình\")\n",
        "\n",
        "# Xây dựng mô hình phức tạp hơn với 3 lớp ẩn\n",
        "improved_model = Sequential([\n",
        "    # Lớp ẩn thứ nhất với 128 nơ-ron\n",
        "    Dense(128, activation='relu', input_shape=(X_train.shape[1],)),\n",
        "    # Lớp ẩn thứ hai với 64 nơ-ron\n",
        "    Dense(64, activation='relu'),\n",
        "    # Lớp ẩn thứ ba với 32 nơ-ron\n",
        "    Dense(32, activation='relu'),\n",
        "    # Lớp đầu ra với 1 nơ-ron\n",
        "    Dense(1)\n",
        "])\n",
        "\n",
        "# Biên dịch mô hình cải tiến\n",
        "improved_model.compile(optimizer='adam', loss='mse', metrics=['mae'])\n",
        "\n",
        "# Huấn luyện mô hình cải tiến\n",
        "improved_history = improved_model.fit(\n",
        "    X_train, y_train,\n",
        "    epochs=50,\n",
        "    batch_size=32,\n",
        "    validation_split=0.1,\n",
        "    verbose=1\n",
        ")\n",
        "\n",
        "# Đánh giá mô hình cải tiến\n",
        "y_pred_improved = improved_model.predict(X_test).flatten()\n",
        "improved_mse = mean_squared_error(y_test, y_pred_improved)\n",
        "improved_rmse = np.sqrt(improved_mse)\n",
        "improved_mae = mean_absolute_error(y_test, y_pred_improved)\n",
        "improved_r2 = r2_score(y_test, y_pred_improved)\n",
        "\n",
        "print(\"\\nKết quả mô hình cải tiến:\")\n",
        "print(f\"MSE: {improved_mse:.4f}\")\n",
        "print(f\"RMSE: {improved_rmse:.4f}\")\n",
        "print(f\"MAE: {improved_mae:.4f}\")\n",
        "print(f\"R²: {improved_r2:.4f}\")\n",
        "\n",
        "# So sánh hai mô hình\n",
        "print(\"\\nSo sánh hai mô hình:\")\n",
        "comparison = pd.DataFrame({\n",
        "    'Mô hình ban đầu': [mse, rmse, mae, r2],\n",
        "    'Mô hình cải tiến': [improved_mse, improved_rmse, improved_mae, improved_r2]\n",
        "}, index=['MSE', 'RMSE', 'MAE', 'R²'])\n",
        "print(comparison)"
      ],
      "metadata": {
        "id": "JGaaNBJ3AjdY"
      },
      "execution_count": null,
      "outputs": []
    },
    {
      "cell_type": "markdown",
      "source": [],
      "metadata": {
        "id": "p9pfpGko_cIP"
      }
    }
  ]
}
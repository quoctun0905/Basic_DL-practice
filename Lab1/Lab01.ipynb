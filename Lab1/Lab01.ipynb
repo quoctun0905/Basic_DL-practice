{
  "nbformat": 4,
  "nbformat_minor": 0,
  "metadata": {
    "colab": {
      "private_outputs": true,
      "provenance": [],
      "gpuType": "T4"
    },
    "kernelspec": {
      "name": "python3",
      "display_name": "Python 3"
    },
    "language_info": {
      "name": "python"
    },
    "accelerator": "GPU"
  },
  "cells": [
    {
      "cell_type": "code",
      "source": [
        "import os\n",
        "import cv2\n",
        "from google.colab.patches import cv2_imshow"
      ],
      "metadata": {
        "id": "4I14EO-YyTrQ"
      },
      "execution_count": null,
      "outputs": []
    },
    {
      "cell_type": "code",
      "execution_count": null,
      "metadata": {
        "id": "HKt2FfdEuZIO"
      },
      "outputs": [],
      "source": [
        "# Kết nối đến Google Driver\n",
        "from google.colab import drive\n",
        "drive.mount('/content/drive')"
      ]
    },
    {
      "cell_type": "code",
      "source": [
        "# Hiển thị các tập tin trong thư mục\n",
        "path = '/content/drive/MyDrive/GiangDay/Hutech/2024-2025 HK2A/dataset/img'\n",
        "os.listdir(path)"
      ],
      "metadata": {
        "id": "Nhm_m5Faxt-q"
      },
      "execution_count": null,
      "outputs": []
    },
    {
      "cell_type": "code",
      "source": [
        "# Hien thi mot anh\n",
        "img = cv2.imread(path + '/1.jpg')\n",
        "cv2_imshow(img)"
      ],
      "metadata": {
        "id": "7itkmxyXynB1"
      },
      "execution_count": null,
      "outputs": []
    },
    {
      "cell_type": "markdown",
      "source": [
        "# II. Gioi thieu ve matplotlib"
      ],
      "metadata": {
        "id": "1qAWdfHTzpjq"
      }
    },
    {
      "cell_type": "code",
      "source": [
        "import matplotlib.pyplot as plt"
      ],
      "metadata": {
        "id": "YTMBHciKzs7o"
      },
      "execution_count": null,
      "outputs": []
    },
    {
      "cell_type": "code",
      "source": [
        "# Ve do thi co ban\n",
        "x = [1, 2, 3, 4, 5]\n",
        "y = [10, 16, 20, 30, 25]\n",
        "plt.plot(x,y)\n",
        "plt.show()"
      ],
      "metadata": {
        "id": "oLAG2owPz6JJ"
      },
      "execution_count": null,
      "outputs": []
    },
    {
      "cell_type": "code",
      "source": [
        "# Ve do thi co ban\n",
        "x = [1, 2, 3, 4, 5]\n",
        "y = [10, 16, 20, 30, 25]\n",
        "plt.plot(x,y, color='red')\n",
        "plt.show()"
      ],
      "metadata": {
        "id": "KnP1ls7s0PIp"
      },
      "execution_count": null,
      "outputs": []
    },
    {
      "cell_type": "code",
      "source": [
        "# Ve do thi co ban\n",
        "x = [1, 2, 3, 4, 5]\n",
        "y = [10, 16, 20, 30, 25]\n",
        "plt.plot(x,y, color='red')\n",
        "plt.title('Vi du ve matplotlib')\n",
        "plt.xlabel('Truc x')\n",
        "plt.ylabel('Truc y')\n",
        "plt.show()"
      ],
      "metadata": {
        "id": "MHxqcFhm0WPq"
      },
      "execution_count": null,
      "outputs": []
    },
    {
      "cell_type": "code",
      "source": [
        "plt.imshow(img)\n",
        "plt.show()"
      ],
      "metadata": {
        "id": "766wtJik0oFV"
      },
      "execution_count": null,
      "outputs": []
    },
    {
      "cell_type": "code",
      "source": [
        "# Vẽ biểu đồ: Line Chart\n",
        "x = [1, 2, 3, 4, 5]\n",
        "y = [10, 16, 20, 30, 25]\n",
        "\n",
        "x1 = [1, 2, 3, 4, 5]\n",
        "y1 = [20, 15, 8, 9, 20]\n",
        "\n",
        "plt.plot(x, y, 'bo-', label='Dữ liệu') # Vẽ đường 1\n",
        "plt.plot(x1, y1, marker='o', color='r', linestyle='-', label='Dữ liệu-1')# Vẽ đường 2\n",
        "plt.legend() # Hiển thị chú giải\n",
        "plt.xlabel('Trục x') # Đặt nhãn cho trục x\n",
        "plt.ylabel('Trục y') # Đặt nhãn cho trục y\n",
        "plt.show() # Hiển thị biểu đồ"
      ],
      "metadata": {
        "id": "ekQPxpLP016T"
      },
      "execution_count": null,
      "outputs": []
    },
    {
      "cell_type": "code",
      "source": [
        "# Vẽ biểu đồ cột Bar Chart\n",
        "categories = ['A', 'B', 'C', 'D', 'E']\n",
        "values = [15, 10, 25, 12, 18]\n",
        "\n",
        "plt.bar(categories, values, color='g', alpha=0.6) # Vẽ biểu đồ cột\n",
        "plt.xlabel('Danh mục') # Đặt nhãn cho trục x\n",
        "plt.ylabel('Giá trị') # Đặt nhãn cho trục y\n",
        "plt.show() # Hiển thị biểu đồ"
      ],
      "metadata": {
        "id": "pkTqc7uu1Uxl"
      },
      "execution_count": null,
      "outputs": []
    },
    {
      "cell_type": "code",
      "source": [
        "# Vẽ biểu đồ hình tròn Pie Chart\n",
        "my_labels = ['A', 'B', 'C', 'D']\n",
        "sizes = [15, 30, 45, 10]\n",
        "my_colors = ['red', 'green', 'blue', 'yellow']\n",
        "\n",
        "plt.pie(sizes, labels=my_labels, colors = my_colors, autopct='%1.1f%%') # Vẽ biểu đồ hình tròn\n",
        "plt.title('Biểu đồ hình tròn')\n",
        "plt.show()"
      ],
      "metadata": {
        "id": "guvtY8KJ1fT0"
      },
      "execution_count": null,
      "outputs": []
    },
    {
      "cell_type": "code",
      "source": [
        "import matplotlib.pyplot as plt\n",
        "\n",
        "data = [15, 18, 22, 30, 35, 45, 50, 55, 65]\n",
        "\n",
        "plt.boxplot(data)  # Vẽ biểu đồ hộp\n",
        "plt.title('Biểu đồ hộp ví dụ')  # Đặt tiêu đề cho biểu đồ\n",
        "plt.ylabel('Giá trị')  # Đặt nhãn cho trục y\n",
        "plt.show()  # Hiển thị biểu đồ"
      ],
      "metadata": {
        "id": "AJJwl0Su1ihS"
      },
      "execution_count": null,
      "outputs": []
    },
    {
      "cell_type": "code",
      "source": [
        "import matplotlib.pyplot as plt\n",
        "\n",
        "data = [15, 18, 22, 30, 35, 45, 50, 55, 65]\n",
        "\n",
        "plt.violinplot(data)  # Vẽ biểu đồ violin\n",
        "plt.title('Biểu đồ violin ví dụ')  # Đặt tiêu đề cho biểu đồ\n",
        "plt.ylabel('Giá trị')  # Đặt nhãn cho trục y\n",
        "plt.show()  # Hiển thị biểu đồ"
      ],
      "metadata": {
        "id": "Em2eLjSa1nyD"
      },
      "execution_count": null,
      "outputs": []
    },
    {
      "cell_type": "markdown",
      "source": [
        "#III. Gioi thieu ve Numpy"
      ],
      "metadata": {
        "id": "e4Z3UFOU11JY"
      }
    },
    {
      "cell_type": "code",
      "source": [
        "import numpy as np"
      ],
      "metadata": {
        "id": "v2Oa08JF1404"
      },
      "execution_count": null,
      "outputs": []
    },
    {
      "cell_type": "code",
      "source": [
        "# Tạo mảng\n",
        "a = np.array([1,2,3])\n",
        "\n",
        "# In mảng\n",
        "print(a)\n",
        "\n",
        "# In ra 1 phần tử\n",
        "element = a[1]\n",
        "print(element)"
      ],
      "metadata": {
        "id": "nAqQA6Ho2GlC"
      },
      "execution_count": null,
      "outputs": []
    },
    {
      "cell_type": "code",
      "source": [
        "# Tạo mảng 2 chiều\n",
        "matrix = np.array([[1, 2, 3], [4, 5, 6], [7, 8, 9]])\n",
        "print(\"Matrix:\")\n",
        "print(matrix)\n",
        "\n",
        "# In một phần tử\n",
        "element = matrix[1, 2]\n",
        "print(element)"
      ],
      "metadata": {
        "id": "lGjqRmpo2Qm2"
      },
      "execution_count": null,
      "outputs": []
    },
    {
      "cell_type": "code",
      "source": [
        "# Cách tạo mảng\n",
        "# Tạo mảng toàn là số 0\n",
        "a = np.zeros(5)\n",
        "print(a)\n",
        "\n",
        "# Tạo mảng toàn là số 1\n",
        "a = np.ones(5)\n",
        "print(a)\n",
        "\n",
        "# Tạo mảng\n",
        "a = np.empty(5)\n",
        "print(a)\n",
        "\n",
        "# Tạo mảng từ 0 đến 100\n",
        "a = np.arange(100)\n",
        "print(a)\n",
        "\n",
        "# Tạo mảng gồm các phần tử với khoảng cách đều nhau\n",
        "a = np.linspace(0, 10, num=5)\n",
        "print(a)\n",
        "\n",
        "\n",
        "# Xác định kiểu dữ liệu\n",
        "a = np.ones(5, dtype=np.int64)\n",
        "a"
      ],
      "metadata": {
        "id": "L3dZCnDU2V8K"
      },
      "execution_count": null,
      "outputs": []
    },
    {
      "cell_type": "code",
      "source": [
        "# Thêm, xóa, sắp xếp mảng\n",
        "\n",
        "# Tạo mảng ban đầu\n",
        "arr = np.array([3, 1, 2, 4, 5])\n",
        "print(arr)\n",
        "\n",
        "# Sắp xếp\n",
        "arr = np.sort(arr)\n",
        "print(arr)\n",
        "\n",
        "# Sắp xếp ngược\n",
        "arr = np.sort(arr)[::-1]\n",
        "print(arr)\n",
        "\n",
        "# Thêm phần tử vào mảng\n",
        "arr = np.append(arr, 100)\n",
        "print(arr)\n",
        "\n",
        "# Xóa đi một ví trí nào đó trong mảng\n",
        "arr = np.delete(arr, 3)\n",
        "print(arr)"
      ],
      "metadata": {
        "id": "7cZy_x9Y2ekU"
      },
      "execution_count": null,
      "outputs": []
    },
    {
      "cell_type": "code",
      "source": [
        "# Tạo một mảng 2 chiều\n",
        "arr = np.array([[3, 1, 2],\n",
        "                [4, 6, 8],\n",
        "                [9, 7, 5]])\n",
        "\n",
        "sap_xep_theo_hang = np.sort(arr, axis=1) # tăng dần\n",
        "print(sap_xep_theo_hang)\n",
        "\n",
        "sap_xep_theo_cot = np.sort(arr, axis=0) # tăng dần\n",
        "print(sap_xep_theo_cot)"
      ],
      "metadata": {
        "id": "UhoB2Z6j2xRm"
      },
      "execution_count": null,
      "outputs": []
    },
    {
      "cell_type": "code",
      "source": [
        "# Tạo một mảng 2D\n",
        "arr = np.array([[1, 2, 3], [4, 5, 6]])\n",
        "\n",
        "# Sử dụng các thuộc tính để lấy thông tin về mảng\n",
        "so_chieu = arr.ndim  # Số chiều (2 chiều)\n",
        "kich_thuoc = arr.size  # Kích thước (tổng số phần tử, 6)\n",
        "hinh_dang = arr.shape  # Hình dạng (số hàng x số cột, (2, 3))\n",
        "\n",
        "print(\"Số chiều:\", so_chieu)\n",
        "print(\"Kích thước:\", kich_thuoc)\n",
        "print(\"Hình dạng:\", hinh_dang)"
      ],
      "metadata": {
        "id": "7VIbyX3G27Qn"
      },
      "execution_count": null,
      "outputs": []
    },
    {
      "cell_type": "code",
      "source": [
        "# Chuyển đổi kiểu dữ liệu\n",
        "arr = np.array([1, 2, 3, 4, 5])\n",
        "arr_float = arr.astype(float)\n",
        "print(arr_float)"
      ],
      "metadata": {
        "id": "52TUGDGJ3DHq"
      },
      "execution_count": null,
      "outputs": []
    },
    {
      "cell_type": "code",
      "source": [
        "# Thay đổi hình dạng của mảng\n",
        "arr = np.array([1, 2, 3, 4, 5, 6])\n",
        "reshaped_arr = arr.reshape(2,3)\n",
        "print(reshaped_arr)\n",
        "reshaped_arr = arr.reshape(3,2)\n",
        "print(reshaped_arr)"
      ],
      "metadata": {
        "id": "yf7b5EBH3HC7"
      },
      "execution_count": null,
      "outputs": []
    },
    {
      "cell_type": "code",
      "source": [
        "# Cắt lát mảng\n",
        "arr = np.array([1, 2, 3, 4, 5])\n",
        "\n",
        "sub_arr = arr[1:4]  # Cắt từ phần tử thứ 1 đến 4\n",
        "print(sub_arr) # 2 3 4 5\n",
        "\n",
        "sub_arr = arr[:-1]  # 1 2 3 4\n",
        "print(sub_arr)\n",
        "\n",
        "sub_arr = arr[-2:]  # 4 5\n",
        "print(sub_arr)"
      ],
      "metadata": {
        "id": "kdnGHWL53MnP"
      },
      "execution_count": null,
      "outputs": []
    },
    {
      "cell_type": "code",
      "source": [
        "# Chuyển vị mảng\n",
        "arr = np.array([[1, 2, 3], [4, 5, 6]])\n",
        "print(arr)\n",
        "# Để chuyển vị mảng, chúng ta có thể sử dụng .T hoặc hàm numpy.transpose().\n",
        "transposed_arr = arr.T\n",
        "print(transposed_arr)"
      ],
      "metadata": {
        "id": "fcCnPZYq3OwM"
      },
      "execution_count": null,
      "outputs": []
    },
    {
      "cell_type": "code",
      "source": [
        "# Nối mảng\n",
        "arr1 = np.array([1, 2, 3])\n",
        "arr2 = np.array([4, 5, 6])\n",
        "arr = np.concatenate((arr1, arr2))\n",
        "print(arr)"
      ],
      "metadata": {
        "id": "FM4EDB5q3VVK"
      },
      "execution_count": null,
      "outputs": []
    },
    {
      "cell_type": "code",
      "source": [
        "# - Hàm numpy.sum() cho phép tính tổng các phần tử trong mảng.\n",
        "arr = np.array([1, 2, 3, 4, 5])\n",
        "total = np.sum(arr)\n",
        "print(\"Tổng của mảng arr:\", total)\n",
        "\n",
        "# III. Hàm tính trung bình (Mean)\n",
        "# - Hàm numpy.mean() tính giá trị trung bình của các phần tử trong mảng.\n",
        "average = np.mean(arr)\n",
        "print(\"Giá trị trung bình của mảng arr:\", average)\n",
        "\n",
        "# IV. Hàm tìm giá trị lớn nhất và nhỏ nhất (Max và Min)\n",
        "# - Hàm numpy.max() và numpy.min() dùng để tìm giá trị lớn nhất và nhỏ nhất trong mảng.\n",
        "max_value = np.max(arr)\n",
        "min_value = np.min(arr)\n",
        "print(\"Giá trị lớn nhất trong mảng arr:\", max_value)\n",
        "print(\"Giá trị nhỏ nhất trong mảng arr:\", min_value)\n",
        "\n",
        "# V. Hàm tính độ lệch chuẩn (Standard Deviation)\n",
        "# - Hàm numpy.std() tính độ lệch chuẩn của mảng, đo lường mức độ phân tán của dữ liệu.\n",
        "std_deviation = np.std(arr)\n",
        "print(\"Độ lệch chuẩn của mảng arr:\", std_deviation)\n",
        "\n",
        "# VI. Hàm tính phương sai (Variance)\n",
        "# - Hàm numpy.var() tính phương sai của mảng, đo lường mức độ biến thiên của dữ liệu.\n",
        "variance = np.var(arr)\n",
        "print(\"Phương sai của mảng arr:\", variance)\n",
        "\n",
        "# VII. Hàm tính tổng tích chập (Dot Product)\n",
        "# - Hàm numpy.dot() tính tổng tích chập của hai mảng (vector).\n",
        "arr1 = np.array([1, 2, 3])\n",
        "arr2 = np.array([4, 5, 6])\n",
        "dot_product = np.dot(arr1, arr2)\n",
        "print(\"Tổng tích chập của arr1 và arr2:\", dot_product)"
      ],
      "metadata": {
        "id": "RzCad6Yj3X9M"
      },
      "execution_count": null,
      "outputs": []
    },
    {
      "cell_type": "markdown",
      "source": [
        "# IV. Gioi thieu ve Scipy"
      ],
      "metadata": {
        "id": "vaurDz_u3u7F"
      }
    },
    {
      "cell_type": "code",
      "source": [
        "from scipy import linalg"
      ],
      "metadata": {
        "id": "Qm8-l29R3y5o"
      },
      "execution_count": null,
      "outputs": []
    },
    {
      "cell_type": "code",
      "source": [
        "# Giải hệ phương trình tuyến tính\n",
        "# Định nghĩa hệ phương trình tuyến tính\n",
        "A = np.array([[2, 1],[3, 2]])\n",
        "b = np.array([5,7])\n",
        "\n",
        "# Giải hệ phương trình tuyến tính\n",
        "x = linalg.solve(A, b)\n",
        "print(\"Kết quả: \", x)"
      ],
      "metadata": {
        "id": "ur2vLOJK3-Bc"
      },
      "execution_count": null,
      "outputs": []
    },
    {
      "cell_type": "code",
      "source": [
        "from scipy import integrate\n",
        "\n",
        "# Tính tích phân của một hàm số\n",
        "# Định nghĩa hàm f(x) = x^2\n",
        "def my_function(x):\n",
        "    return x**2\n",
        "# Tính tích phân của f(x) từ 0 đến 1\n",
        "integral = integrate.quad(my_function, 0, 1);\n",
        "print(\"Tích phân f(x) từ 0 đến 1: \", integral)"
      ],
      "metadata": {
        "id": "a5gI1TDz4Rtt"
      },
      "execution_count": null,
      "outputs": []
    },
    {
      "cell_type": "code",
      "source": [
        "# Tính giá trị riêng và vector riêng của một ma trận:\n",
        "A = np.array([[2,1], [3,2]])\n",
        "\n",
        "# Tính giá trị riêng và vector riêng của ma trận\n",
        "evals, evecs = linalg.eig(A)\n",
        "\n",
        "print(\"Giá trị riêng: \", evals)\n",
        "print(\"Vector riêng: \", evecs)"
      ],
      "metadata": {
        "id": "q5wPys044pBw"
      },
      "execution_count": null,
      "outputs": []
    }
  ]
}
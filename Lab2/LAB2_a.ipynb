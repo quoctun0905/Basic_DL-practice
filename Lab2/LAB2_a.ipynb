{
  "nbformat": 4,
  "nbformat_minor": 0,
  "metadata": {
    "colab": {
      "private_outputs": true,
      "provenance": []
    },
    "kernelspec": {
      "name": "python3",
      "display_name": "Python 3"
    },
    "language_info": {
      "name": "python"
    }
  },
  "cells": [
    {
      "cell_type": "code",
      "execution_count": null,
      "metadata": {
        "id": "QFXtdouic0UZ"
      },
      "outputs": [],
      "source": [
        "import numpy as np\n",
        "import pandas as pd\n",
        "import matplotlib.pyplot as plt\n",
        "from sklearn.linear_model import LinearRegression"
      ]
    },
    {
      "cell_type": "code",
      "source": [
        "# Tạo dữ liệu giả định\n",
        "house_are = np.array([50, 70, 80, 100, 120]) # Diện tích của ngôi nhà (m2)\n",
        "house_price = np.array([200, 270, 300, 370, 450]) # Giá của ngôi nhà (nghìn USD)\n",
        "\n",
        "# Tạo dataframe\n",
        "data = pd.DataFrame({\n",
        "    'house_are': house_are,\n",
        "    'house_price': house_price\n",
        "})\n",
        "\n",
        "data"
      ],
      "metadata": {
        "id": "ItyJxRtvdOd0"
      },
      "execution_count": null,
      "outputs": []
    },
    {
      "cell_type": "code",
      "source": [
        "# Thực hiện hồi quy tuyến tính\n",
        "# Chú ý: sklearn yêu cầu reshape dữ liệu đầu vào\n",
        "X = house_are.reshape(-1,1)\n",
        "y = house_price\n",
        "\n",
        "X"
      ],
      "metadata": {
        "id": "A1-bsCXrd8bj"
      },
      "execution_count": null,
      "outputs": []
    },
    {
      "cell_type": "code",
      "source": [
        "# Tạo và huấn luyện mô hình\n",
        "model = LinearRegression()\n",
        "model.fit(X, y)"
      ],
      "metadata": {
        "id": "MeEZ3plEeX0K"
      },
      "execution_count": null,
      "outputs": []
    },
    {
      "cell_type": "code",
      "source": [
        "print(\"Điểm cắt (intercept): \" , model.intercept_)\n",
        "print(\"Hệ số góc (slope): \", model.coef_[0])\n",
        "print(\"R-squared:\", model.score(X, y))"
      ],
      "metadata": {
        "id": "KDeYCdTbekxu"
      },
      "execution_count": null,
      "outputs": []
    },
    {
      "cell_type": "code",
      "source": [
        "# Vẽ biểu đồ\n",
        "plt.figure(figsize=(10,6))\n",
        "plt.scatter(house_are, house_price, color='red', label='Dữ liệu gốc')\n",
        "plt.plot(house_are, model.predict(X), color='blue', linewidth=2, label='Đường hồi quy tuyến tính')\n",
        "plt.xlabel('Diện tích (m2)')\n",
        "plt.ylabel('Giá nhà (nghìn USD)')\n",
        "plt.title('Hồi quy tuyến tính cho giá nhà')\n",
        "plt.legend()\n",
        "plt.show()"
      ],
      "metadata": {
        "id": "VVal3EkAfRSk"
      },
      "execution_count": null,
      "outputs": []
    },
    {
      "cell_type": "code",
      "source": [
        "# Sử dụng mô hình để dự đoán\n",
        "new_house_area = np.array([85, 110, 150]).reshape(-1,1)\n",
        "predicted_prices = model.predict(new_house_area)\n",
        "\n",
        "print(\"\\nDự đoán giá nhà cho diện tích 85m2, 110m2 và 150m2:\")\n",
        "for area, price in zip(new_house_area.flatten(), predicted_prices):\n",
        "   print(f\"Diện tích {area} m²: {price:.2f} nghìn USD\")"
      ],
      "metadata": {
        "id": "vLi9gCiSf_su"
      },
      "execution_count": null,
      "outputs": []
    }
  ]
}
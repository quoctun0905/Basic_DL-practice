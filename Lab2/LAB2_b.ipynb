{
  "nbformat": 4,
  "nbformat_minor": 0,
  "metadata": {
    "colab": {
      "private_outputs": true,
      "provenance": []
    },
    "kernelspec": {
      "name": "python3",
      "display_name": "Python 3"
    },
    "language_info": {
      "name": "python"
    }
  },
  "cells": [
    {
      "cell_type": "code",
      "execution_count": null,
      "metadata": {
        "id": "b-Q08Eg_hfVB"
      },
      "outputs": [],
      "source": [
        "import numpy as np\n",
        "import pandas as pd\n",
        "import matplotlib.pyplot as plt\n",
        "from sklearn.linear_model import LinearRegression\n",
        "from sklearn.datasets import load_iris\n",
        "from sklearn.model_selection import train_test_split\n",
        "from sklearn.metrics import mean_squared_error, r2_score"
      ]
    },
    {
      "cell_type": "code",
      "source": [
        "def load_iris_data():\n",
        "  # Load bộ dữ liệu Iris\n",
        "  iris = load_iris()\n",
        "\n",
        "  # Chuyển đổi dữ liệu thành DataFrame để dễ thao tác\n",
        "  df = pd.DataFrame(data=iris.data, columns=iris.feature_names)\n",
        "  df['target'] = iris.target\n",
        "\n",
        "  return df"
      ],
      "metadata": {
        "id": "_el1FrzaiQ7C"
      },
      "execution_count": null,
      "outputs": []
    },
    {
      "cell_type": "code",
      "source": [
        "def prepare_data(df, feature_index=0, target_index=1):\n",
        "  \"\"\"\n",
        "  Hàm chuẩn bị dữ liệu cho mô hình hồi quy tuyến tính.\n",
        "  feature_index : chỉ số đặc trừng đầu vào (0->3)\n",
        "  target_index : chỉ số đặc trưng đầu ra (0->3)\n",
        "  \"\"\"\n",
        "  # Chọn một đặc làm biến đầu vào\n",
        "  X = df.iloc[:, feature_index].values.reshape(-1, 1)\n",
        "\n",
        "  # Chọn một đặc làm biến đầu ra\n",
        "  y = df.iloc[:, target_index].values\n",
        "\n",
        "  # Chia dữ liệu thành tập huấn luyện và tập kiểm tra\n",
        "  X_train, X_test, y_train, y_test = train_test_split(X, y, test_size=0.2, random_state=42)\n",
        "\n",
        "  return X_train, X_test, y_train, y_test"
      ],
      "metadata": {
        "id": "r3hhkDJYkHgW"
      },
      "execution_count": null,
      "outputs": []
    },
    {
      "cell_type": "code",
      "source": [
        "def train_and_evaluate_model(X_train, X_test, y_train, y_test, feature_name, target_name):\n",
        "  # Khởi tạo và huấn luyện mô hình\n",
        "  model = LinearRegression()\n",
        "  model.fit(X_train, y_train)\n",
        "\n",
        "  # Dự đoán trên tập huấn luyện và kiểm tra\n",
        "  y_train_pred = model.predict(X_train)\n",
        "  y_test_pred = model.predict(X_test)\n",
        "\n",
        "  # Tính các metric đánh giá\n",
        "  train_mse = mean_squared_error(y_train, y_train_pred)\n",
        "  test_mse = mean_squared_error(y_test, y_test_pred)\n",
        "  train_r2 = r2_score(y_train, y_train_pred)\n",
        "  test_r2 = r2_score(y_test, y_test_pred)\n",
        "\n",
        "  #In kết quả\n",
        "  print(f\"\\n Kết quả hồi quy tuyến tính: {feature_name} -> {target_name}\" )\n",
        "  print(f\"Điểm cắt (intercept): {model.intercept_:.4f}\")\n",
        "  print(f\"Hệ số góc (slope): {model.coef_[0]:.4f}\")\n",
        "  print(f\"Phương trình hồi quy: y= {model.intercept_:.4f} + {model.coef_[0]:.4f}x\")\n",
        "  print(f\"  - MSE (train): {train_mse}\")\n",
        "  print(f\"  - MSE (test): {test_mse}\")\n",
        "  print(f\"  - R2 (train): {train_r2}\")\n",
        "  print(f\"  - R2 (test): {test_r2}\")\n",
        "\n",
        "  # Vẽ dữ liệu huấn luyện\n",
        "  # Vẽ biểu đồ\n",
        "  plt.figure(figsize=(12,5))\n",
        "\n",
        "  plt.subplot(1, 2, 1)\n",
        "  plt.scatter(X_train, y_train, color='red', label='Dữ liệu gốc')\n",
        "  plt.plot(X_train, y_train_pred, color='blue', linewidth=2, label='Đường hồi quy tuyến tính')\n",
        "  plt.xlabel(feature_name)\n",
        "  plt.ylabel(target_name)\n",
        "  plt.title('Tập huấn luyện')\n",
        "  plt.legend()\n",
        "  plt.grid(True)\n",
        "\n",
        "\n",
        "\n",
        "  plt.subplot(1, 2, 2)\n",
        "  plt.scatter(X_test, y_test, color='red', label='Dữ liệu gốc')\n",
        "  plt.plot(X_test, y_test_pred, color='blue', linewidth=2, label='Đường hồi quy tuyến tính')\n",
        "  plt.xlabel(feature_name)\n",
        "  plt.ylabel(target_name)\n",
        "  plt.title('Tập kiểm tra')\n",
        "  plt.legend()\n",
        "  plt.grid(True)\n",
        "\n",
        "  plt.tight_layout()\n",
        "  plt.show()\n",
        "\n",
        "  return model"
      ],
      "metadata": {
        "id": "oc-G51Tsmjsq"
      },
      "execution_count": null,
      "outputs": []
    },
    {
      "cell_type": "code",
      "source": [
        "# Load dữ liệu\n",
        "df = load_iris_data()\n",
        "print(df.head())\n",
        "\n",
        "# Lấy tên các đặc trừng\n",
        "feature_names = df.columns[:-1]\n",
        "print(feature_names)\n",
        "\n",
        "feature_index = 0;\n",
        "target_index = 1;\n",
        "\n",
        "# Chuẩn bị dữ liệu\n",
        "X_train, X_test, y_train, y_test = prepare_data(df, feature_index, target_index)\n",
        "\n",
        "# Huấn luyện và đánh giá mô hình\n",
        "model = train_and_evaluate_model(X_train, X_test, y_train, y_test,  feature_names[feature_index],\n",
        "      feature_names[target_index])"
      ],
      "metadata": {
        "id": "9L0HAwEoiybW"
      },
      "execution_count": null,
      "outputs": []
    }
  ]
}
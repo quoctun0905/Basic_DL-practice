{
  "nbformat": 4,
  "nbformat_minor": 0,
  "metadata": {
    "colab": {
      "private_outputs": true,
      "provenance": []
    },
    "kernelspec": {
      "name": "python3",
      "display_name": "Python 3"
    },
    "language_info": {
      "name": "python"
    }
  },
  "cells": [
    {
      "cell_type": "code",
      "execution_count": null,
      "metadata": {
        "id": "Z9ObJY5LkG0X"
      },
      "outputs": [],
      "source": [
        "import numpy as np"
      ]
    },
    {
      "cell_type": "code",
      "source": [
        "# Bài toán XOR: Có 4 mẫu đầu vào và đầu ra tương ứng\n",
        "# Tạo mảng X chứa 4 mẫu đầu vào: [0,0], [0,1], [1,0], [1,1]\n",
        "X = np.array([[0,0], [0,1], [1,0], [1,1]]) # Đầu vào\n",
        "# Tạo mảng y chứa kết quả đầu ra tương ứng với 4 mẫu đầu vào theo phép XOR: 0, 1, 1, 0\n",
        "y = np.array([[0], [1], [1], [0]])"
      ],
      "metadata": {
        "id": "kALuh8IqkXAi"
      },
      "execution_count": null,
      "outputs": []
    },
    {
      "cell_type": "code",
      "source": [
        "def sigmoid(x):\n",
        "  # Hàm sigmoid: f(x) = 1/(1+e^(-x)) , giới hạn đầu trong khoảng (0, 1)\n",
        "  return 1/(1+np.exp(-x));"
      ],
      "metadata": {
        "id": "8bZwFs-slGzN"
      },
      "execution_count": null,
      "outputs": []
    },
    {
      "cell_type": "code",
      "source": [
        "def sigmoid_derivative(x):\n",
        "  # Đạo hàm của hàm sigmoid: f'(x) = f(x)*(1-f(x))\n",
        "  # lưu ý: x ở đây là giá trị của hàm sigmoid\n",
        "  return x*(1-x);"
      ],
      "metadata": {
        "id": "_mzMsBgsloDj"
      },
      "execution_count": null,
      "outputs": []
    },
    {
      "cell_type": "code",
      "source": [
        "# Định nghĩa lớp mạng nơ-ron:\n",
        "class NeuralNetwork:\n",
        "  def __init__(self, x, y):\n",
        "    # Khởi tạo mạng với dữ liệu đầu vào là x và đầu ra mong muốn là y\n",
        "    self.input = x\n",
        "    # Khởi tạo ngẫu nhiên trọng số kết nối từ lớp đầu vào (2 node)\n",
        "    # đến lớp ẩn (4 node)\n",
        "    self.weigths1 = np.random.rand(self.input.shape[1], 4) # Trọng số lớp đầu vào -> lớp ẩn\n",
        "    # Khởi tạo ngẫu nhiên trọng số kết nối từ lớp ẩn (4 node) đến lớp đầu ra (1 node)\n",
        "    self.weigths2 = np.random.rand(4, 1)\n",
        "    # Lưu trữ đầu ra mong muốn\n",
        "    self.y = y\n",
        "    # Khởi tạo mảng đầu ra với kích thước giống y và giá trị ban đầu bằng 0\n",
        "    self.output = np.zeros(self.y.shape)\n",
        "\n",
        "  def feedforward(self):\n",
        "    # Lan truyền thuận - tính đầu ra của mạng với trọng số hiện tại\n",
        "    # Tính đầu ra của lớp ẩn: input * weights1 qua hàm sigmoid\n",
        "    self.layer1 = sigmoid(np.dot(self.input, self.weigths1)) # đầu ra của lớp ẩn\n",
        "    # Tính đầu ra của lớp đầu ra: layer1 * weights2 qua hàm sigmoid\n",
        "    self.output = sigmoid(np.dot(self.layer1, self.weigths2)) # đầu ra của lớp đầu ra\n",
        "\n",
        "  def backprop(self):\n",
        "    # Lan truyền ngược - cập nhật trọng số dựa trên lỗi\n",
        "    # Tính gradient\n",
        "    # Tính đạo hàm của lỗi theo weights2:\n",
        "    # (layer1.T là chuyển vị của layer1) nhân với (2*lỗi*đạo hàm sigmoid tại output)\n",
        "    # Hệ số 2 từ đạo hàm của hàm lỗi bình phương\n",
        "    d_weights2 = np.dot(self.layer1.T, (2*(self.y - self.output) * sigmoid_derivative(self.output)))\n",
        "    # Tính đạo hàm của lỗi theo weights1:\n",
        "    # (input.T nhân với đạo hàm lỗi theo layer1 * sigmoid tại layer1)\n",
        "    # Đạo hàm lỗi theo layer1 = đạo hàm lỗi theo output nhân với weights2.T\n",
        "    d_weights1 = np.dot(self.input.T, np.dot(2*(self.y - self.output) * sigmoid_derivative(self.output), self.weigths2.T) * sigmoid_derivative(self.layer1))\n",
        "\n",
        "    # Cập nhật trọng số bằng cách công với gradient (learning rate mặc định bằng 1)\n",
        "    self.weigths1 += d_weights1\n",
        "    self.weigths2 += d_weights2"
      ],
      "metadata": {
        "id": "VUd5j8E0mWHO"
      },
      "execution_count": null,
      "outputs": []
    },
    {
      "cell_type": "code",
      "source": [
        "# KHỞI TẠO ĐỐI TƯỢNG MẠNG NEURAL VỚI DỮ LIỆU X, y"
      ],
      "metadata": {
        "id": "pDDRcsRIr4bS"
      },
      "execution_count": null,
      "outputs": []
    },
    {
      "cell_type": "code",
      "source": [
        "nn = NeuralNetwork(X, y)"
      ],
      "metadata": {
        "id": "KZBph-pCr-xp"
      },
      "execution_count": null,
      "outputs": []
    },
    {
      "cell_type": "code",
      "source": [
        "# Huấn luyện mạng neural qua 10000 vòng lặp (epochs)\n",
        "for i in range(100000):\n",
        "  # Tính đầu ra với trọng số hiện tại\n",
        "  nn.feedforward()\n",
        "  # Cập nhật trọng số dựa trên lỗi\n",
        "  nn.backprop()\n",
        "  # in ra lỗi sau mỗi 1000 epochs để theo dõi quá trình huấn luyện\n",
        "  if i % 1000 == 0:\n",
        "    print(\"Lỗi sau\", i, \"epochs:\", np.mean(np.square(y - nn.output)))"
      ],
      "metadata": {
        "id": "__mNXxwZsBow"
      },
      "execution_count": null,
      "outputs": []
    },
    {
      "cell_type": "code",
      "source": [
        "# Tính đầu ra cuối cùng với trọng số đã huấn luyện\n",
        "nn.feedforward()\n",
        "# In ra đầu ra dự đoán\n",
        "print(nn.output)"
      ],
      "metadata": {
        "id": "xm6CNZlBssdK"
      },
      "execution_count": null,
      "outputs": []
    }
  ]
}
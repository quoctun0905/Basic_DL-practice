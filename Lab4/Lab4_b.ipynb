{
  "nbformat": 4,
  "nbformat_minor": 0,
  "metadata": {
    "colab": {
      "private_outputs": true,
      "provenance": []
    },
    "kernelspec": {
      "name": "python3",
      "display_name": "Python 3"
    },
    "language_info": {
      "name": "python"
    }
  },
  "cells": [
    {
      "cell_type": "code",
      "execution_count": null,
      "metadata": {
        "id": "jHg-ZRNfwvyn"
      },
      "outputs": [],
      "source": [
        "# Bài thực hành 1: Nhận dạng chữ số viết tay với MNIST (Chi tiết cho người mới)\n",
        "# ===================================================================================="
      ]
    },
    {
      "cell_type": "code",
      "source": [
        "import numpy as np\n",
        "import matplotlib.pyplot as plt\n",
        "# tensorflow: Framework học máy và deep learning\n",
        "import tensorflow as tf\n",
        "# Tải bộ dữ liệu MNIST từ keras (là một phần của tensorflow)\n",
        "from tensorflow.keras.datasets import mnist\n",
        "# Sequential: Kiểu mô hình neural network đơn giản nhất trong keras, các layer xếp tuần tự\n",
        "from tensorflow.keras.models import Sequential\n",
        "# Dense: Layer kết nối đầy đủ, Flatten: Layer làm phẳng dữ liệu\n",
        "from tensorflow.keras.layers import Dense, Flatten\n",
        "# to_categorical: Hàm chuyển đổi nhãn thành biểu diễn one-hot\n",
        "from tensorflow.keras.utils import to_categorical"
      ],
      "metadata": {
        "id": "jTZHlrQ8wxg6"
      },
      "execution_count": null,
      "outputs": []
    },
    {
      "cell_type": "code",
      "source": [
        "# -------------------------------------------------------------\n",
        "# STEP 1: TẢI DỮ LIỆU MNIST\n",
        "# -------------------------------------------------------------\n",
        "print(\"Step 1: Tải dữ liệu MNIST\")"
      ],
      "metadata": {
        "id": "JPZo6w0Bxl6S"
      },
      "execution_count": null,
      "outputs": []
    },
    {
      "cell_type": "code",
      "source": [
        "# mnist.load_data(): Hàm tải bộ dữ liệu MNIST\n",
        "# Hàm này trả về hai tuple: (X_train, y_train) và (X_test, y_test)\n",
        "# X_train: Dữ liệu hình ảnh huấn luyện, y_train: Nhãn tương ứng\n",
        "# X_test: Dữ liệu hình ảnh kiểm tra, y_test: Nhãn tương ứng\n",
        "(X_train, y_train), (X_test, y_test)= mnist.load_data()"
      ],
      "metadata": {
        "id": "yephtcdaxwlP"
      },
      "execution_count": null,
      "outputs": []
    },
    {
      "cell_type": "code",
      "source": [
        "# In thông tin về kích thước dữ liệu\n",
        "# X_train.shape: Kích thước của mảng X_train\n",
        "# Kết quả có dạng (60000, 28, 28) nghĩa là 60000 hình ảnh, mỗi hình 28x28 pixel\n",
        "print(f\"Kích thước tập huấn luyện: {X_train.shape}\")\n",
        "print(f\"Kích thước tập kiểm tra: {X_test.shape}\")"
      ],
      "metadata": {
        "id": "cVf2V3dax7G1"
      },
      "execution_count": null,
      "outputs": []
    },
    {
      "cell_type": "code",
      "source": [
        "# In số lượng mẫu trong mỗi tập\n",
        "# X_train.shape[0]: Lấy kích thước của chiều đầu tiên (số lượng mẫu)\n",
        "print(f\"Số lượng mẫu huấn luyện: {X_train.shape[0]}\")\n",
        "print(f\"Số lượng mẫu kiểm tra: {X_test.shape[0]}\")"
      ],
      "metadata": {
        "id": "ubXz2yDUyNV5"
      },
      "execution_count": null,
      "outputs": []
    },
    {
      "cell_type": "code",
      "source": [
        "# In kích thước mỗi hình ảnh\n",
        "print(f\"Kích thước mỗi hình ảnh: {X_train.shape[1]}x{X_train.shape[2]} pixels\")"
      ],
      "metadata": {
        "id": "hfCBUzV1yRrG"
      },
      "execution_count": null,
      "outputs": []
    },
    {
      "cell_type": "code",
      "source": [
        "# -------------------------------------------------------------\n",
        "# STEP 2: HIỂN THỊ MỘT SỐ ẢNH VÍ DỤ\n",
        "# -------------------------------------------------------------\n",
        "print(\"\\nStep 2: Hiển thị một số ví dụ từ tập huấn luyện\")\n",
        "\n",
        "# Chọn một chỉ số cụ thể (thứ 150) để hiển thị\n",
        "idx = 150\n",
        "\n",
        "# plt.figure(): Tạo một figure mới với kích thước 6x3 inch\n",
        "plt.figure(figsize=(6, 3))\n",
        "# plt.subplot(1, 2, 1): Chia figure thành 1 hàng, 2 cột, và chọn vị trí 1\n",
        "plt.subplot(1, 2, 1)\n",
        "# plt.imshow(): Hiển thị hình ảnh\n",
        "# X_train[idx]: Lấy hình ảnh thứ idx từ tập huấn luyện\n",
        "# cmap=plt.cm.gray: Hiển thị ở chế độ grayscale\n",
        "plt.imshow(X_train[idx], cmap=plt.cm.gray)\n",
        "# plt.title(): Thêm tiêu đề cho hình ảnh\n",
        "# f-string cho phép nhúng biểu thức Python trực tiếp vào chuỗi bằng cú pháp {expression}\n",
        "plt.title(f'Corresponding label: {y_train[idx]}\\n% {y_train[idx]}', fontsize=20)\n",
        "\n",
        "# Hiển thị thêm 5 ví dụ\n",
        "# Tạo figure mới với kích thước 12x4 inch\n",
        "plt.figure(figsize=(12, 4))\n",
        "# Dùng vòng lặp for để hiển thị 5 hình ảnh\n",
        "for i in range(5):\n",
        "    # Chia figure thành 1 hàng, 5 cột và chọn vị trí i+1\n",
        "    plt.subplot(1, 5, i+1)\n",
        "    # Hiển thị hình ảnh thứ i trong tập huấn luyện\n",
        "    plt.imshow(X_train[i], cmap='gray')\n",
        "    # Thêm tiêu đề với nhãn tương ứng\n",
        "    plt.title(f\"Label: {y_train[i]}\")\n",
        "    # Tắt trục (không hiển thị trục x, y)\n",
        "    plt.axis('off')\n",
        "# Tự động điều chỉnh layout cho đẹp\n",
        "plt.tight_layout()\n",
        "# Hiển thị hình ảnh\n",
        "plt.show()"
      ],
      "metadata": {
        "id": "1Pv86eL3yUdq"
      },
      "execution_count": null,
      "outputs": []
    },
    {
      "cell_type": "code",
      "source": [
        "# -------------------------------------------------------------\n",
        "# STEP 3: TIỀN XỬ LÝ DỮ LIỆU\n",
        "# -------------------------------------------------------------\n",
        "print(\"\\nStep 3: Tiền xử lý dữ liệu\")\n",
        "\n",
        "# Chuyển đổi kiểu dữ liệu sang float32\n",
        "# Ban đầu dữ liệu có kiểu uint8 (0-255), chuyển sang float32 để tính toán\n",
        "X_train = X_train.astype('float32')\n",
        "X_test = X_test.astype('float32')"
      ],
      "metadata": {
        "id": "14Grg89ryrr2"
      },
      "execution_count": null,
      "outputs": []
    },
    {
      "cell_type": "code",
      "source": [
        "# Chuẩn hóa dữ liệu bằng cách chia cho 255\n",
        "# Giá trị pixel ban đầu từ 0-255, chia cho 255 để chuyển về khoảng [0,1]\n",
        "# Điều này giúp quá trình huấn luyện ổn định và hội tụ nhanh hơn\n",
        "X_train /= 255\n",
        "X_test /= 255"
      ],
      "metadata": {
        "id": "88gjxjSLy7Vh"
      },
      "execution_count": null,
      "outputs": []
    },
    {
      "cell_type": "code",
      "source": [
        "# In thông tin về giá trị pixel trước và sau khi chuẩn hóa\n",
        "print(f\"Giá trị pixel tối đa trước khi chuẩn hóa: 255\")\n",
        "print(f\"Giá trị pixel tối đa sau khi chuẩn hóa: {X_train.max()}\")\n",
        "print(f\"Giá trị pixel tối thiểu sau khi chuẩn hóa: {X_train.min()}\")"
      ],
      "metadata": {
        "id": "zRrVlPEKy-y5"
      },
      "execution_count": null,
      "outputs": []
    },
    {
      "cell_type": "code",
      "source": [
        "# Định dạng lại dữ liệu: chuyển từ hình ảnh 28x28 sang vector 784\n",
        "# reshape(): Hàm thay đổi kích thước mảng mà không thay đổi dữ liệu\n",
        "# X_train.shape[0]: Số lượng mẫu\n",
        "# 784 = 28*28: Số pixel trong mỗi hình ảnh sau khi làm phẳng\n",
        "X_train_flatten = X_train.reshape(X_train.shape[0], 784)\n",
        "X_test_flatten = X_test.reshape(X_test.shape[0], 784)"
      ],
      "metadata": {
        "id": "rwFQX8GIzBmY"
      },
      "execution_count": null,
      "outputs": []
    },
    {
      "cell_type": "code",
      "source": [
        "# One-hot encoding cho nhãn\n",
        "# Chuyển đổi nhãn từ dạng số (0-9) sang dạng vector one-hot\n",
        "# Ví dụ: 5 -> [0, 0, 0, 0, 0, 1, 0, 0, 0, 0]\n",
        "# num_classes=10: Có 10 lớp (0-9)\n",
        "y_train_categorical = to_categorical(y_train, num_classes=10)\n",
        "y_test_categorical = to_categorical(y_test, num_classes=10)"
      ],
      "metadata": {
        "id": "i5VRcJgpzVqr"
      },
      "execution_count": null,
      "outputs": []
    },
    {
      "cell_type": "code",
      "source": [
        "# Hiển thị thông tin sau khi tiền xử lý\n",
        "print(f\"Kích thước dữ liệu huấn luyện sau khi làm phẳng: {X_train_flatten.shape}\")\n",
        "print(f\"Kích thước dữ liệu kiểm tra sau khi làm phẳng: {X_test_flatten.shape}\")\n",
        "print(f\"Hình dạng nhãn huấn luyện sau khi one-hot encoding: {y_train_categorical.shape}\")\n",
        "print(f\"Ví dụ one-hot encoding cho chữ số {y_train[0]}: {y_train_categorical[0]}\")"
      ],
      "metadata": {
        "id": "1QPkaYRXzu3q"
      },
      "execution_count": null,
      "outputs": []
    },
    {
      "cell_type": "code",
      "source": [
        "# -------------------------------------------------------------\n",
        "# STEP 4: THIẾT KẾ VÀ HUẤN LUYỆN MẠNG NƠ-RON\n",
        "# -------------------------------------------------------------\n",
        "print(\"\\nStep 4: Thiết kế và huấn luyện mạng nơ-ron\")"
      ],
      "metadata": {
        "id": "X7XLpMddz3B9"
      },
      "execution_count": null,
      "outputs": []
    },
    {
      "cell_type": "code",
      "source": [
        "# Xây dựng mô hình Sequential (các layer xếp tuần tự)\n",
        "model = Sequential([\n",
        "    # Lớp Flatten để chuyển đổi hình ảnh 28x28 thành vector 784\n",
        "    # input_shape=(28, 28): Kích thước đầu vào là hình ảnh 28x28\n",
        "    Flatten(input_shape=(28, 28)),\n",
        "\n",
        "    # Lớp Dense (kết nối đầy đủ) với 128 nơ-ron\n",
        "    # activation='relu': Hàm kích hoạt ReLU (Rectified Linear Unit)\n",
        "    # ReLU trả về max(0, x), giúp mô hình học các mối quan hệ phi tuyến\n",
        "    Dense(128, activation='relu'),\n",
        "\n",
        "    # Lớp đầu ra với 10 nơ-ron (cho 10 chữ số 0-9)\n",
        "    # activation='softmax': Hàm kích hoạt softmax biến đầu ra thành phân phối xác suất\n",
        "    # (tổng xác suất các lớp bằng 1)\n",
        "    Dense(10, activation='softmax')\n",
        "])\n",
        "\n",
        "\n",
        "# Hiển thị tóm tắt thông tin mô hình\n",
        "# Hiển thị số lượng tham số (weights và biases) của mỗi layer và tổng số\n",
        "model.summary()\n"
      ],
      "metadata": {
        "id": "WzoqLfnqz7VI"
      },
      "execution_count": null,
      "outputs": []
    },
    {
      "cell_type": "code",
      "source": [
        "# Biên dịch mô hình\n",
        "# optimizer='adam': Thuật toán tối ưu Adam, phổ biến và hiệu quả\n",
        "# loss='categorical_crossentropy': Hàm mất mát cho bài toán phân loại nhiều lớp\n",
        "# metrics=['accuracy']: Theo dõi độ chính xác trong quá trình huấn luyện\n",
        "model.compile(\n",
        "    optimizer='adam',\n",
        "    loss='categorical_crossentropy',\n",
        "    metrics=['accuracy']\n",
        ")"
      ],
      "metadata": {
        "id": "e0WvBxST0rer"
      },
      "execution_count": null,
      "outputs": []
    },
    {
      "cell_type": "code",
      "source": [
        "# Huấn luyện mô hình\n",
        "print(\"\\nBắt đầu huấn luyện mô hình...\")\n",
        "# model.fit(): Hàm huấn luyện mô hình\n",
        "# X_train, y_train_categorical: Dữ liệu huấn luyện và nhãn\n",
        "# epochs=10: Số lần lặp qua toàn bộ dữ liệu huấn luyện\n",
        "# batch_size=32: Số mẫu được xử lý trong mỗi bước cập nhật\n",
        "# validation_split=0.1: Dùng 10% dữ liệu huấn luyện làm tập validation\n",
        "# verbose=1: Hiển thị thanh tiến trình trong quá trình huấn luyện\n",
        "history = model.fit(\n",
        "    X_train, y_train_categorical,\n",
        "    epochs=10,\n",
        "    batch_size=32,\n",
        "    validation_split=0.1,\n",
        "    verbose=1\n",
        ")"
      ],
      "metadata": {
        "id": "FxE-1Oc105sP"
      },
      "execution_count": null,
      "outputs": []
    },
    {
      "cell_type": "code",
      "source": [
        "# -------------------------------------------------------------\n",
        "# STEP 5: ĐÁNH GIÁ MÔ HÌNH\n",
        "# -------------------------------------------------------------\n",
        "print(\"\\nStep 5: Đánh giá mô hình\")\n",
        "\n",
        "# Đánh giá mô hình trên tập kiểm tra\n",
        "# model.evaluate(): Tính toán loss và các metrics trên dữ liệu kiểm tra\n",
        "# verbose=0: Không hiển thị thanh tiến trình\n",
        "test_loss, test_accuracy = model.evaluate(X_test, y_test_categorical, verbose=0)\n",
        "print(f\"Test accuracy: {test_accuracy:.4f}\")\n",
        "print(f\"Test loss: {test_loss:.4f}\")\n",
        "\n",
        "# Vẽ đồ thị độ chính xác và mất mát trong quá trình huấn luyện\n",
        "plt.figure(figsize=(12, 4))\n",
        "\n",
        "# Đồ thị độ chính xác (accuracy)\n",
        "plt.subplot(1, 2, 1)\n",
        "# history.history['accuracy']: Độ chính xác trên tập huấn luyện\n",
        "plt.plot(history.history['accuracy'], label='Training Accuracy')\n",
        "# history.history['val_accuracy']: Độ chính xác trên tập validation\n",
        "plt.plot(history.history['val_accuracy'], label='Validation Accuracy')\n",
        "plt.title('Accuracy over epochs')\n",
        "plt.xlabel('Epochs')\n",
        "plt.ylabel('Accuracy')\n",
        "plt.legend()\n",
        "\n",
        "# Đồ thị mất mát (loss)\n",
        "plt.subplot(1, 2, 2)\n",
        "# history.history['loss']: Mất mát trên tập huấn luyện\n",
        "plt.plot(history.history['loss'], label='Training Loss')\n",
        "# history.history['val_loss']: Mất mát trên tập validation\n",
        "plt.plot(history.history['val_loss'], label='Validation Loss')\n",
        "plt.title('Loss over epochs')\n",
        "plt.xlabel('Epochs')\n",
        "plt.ylabel('Loss')\n",
        "plt.legend()\n",
        "\n",
        "plt.tight_layout()\n",
        "plt.show()"
      ],
      "metadata": {
        "id": "tvgR44cW1gWT"
      },
      "execution_count": null,
      "outputs": []
    },
    {
      "cell_type": "code",
      "source": [
        "# -------------------------------------------------------------\n",
        "# STEP 6: DỰ ĐOÁN VÀ TRỰC QUAN HÓA KẾT QUẢ\n",
        "# -------------------------------------------------------------\n",
        "print(\"\\nStep 6: Dự đoán và trực quan hóa kết quả\")\n",
        "\n",
        "# Dự đoán trên 10 ảnh đầu tiên từ tập kiểm tra\n",
        "# model.predict(): Dự đoán đầu ra cho dữ liệu đầu vào\n",
        "predictions = model.predict(X_test[:10])\n",
        "\n",
        "# np.argmax(predictions, axis=1): Tìm chỉ số có giá trị lớn nhất trên mỗi hàng\n",
        "# axis=1 nghĩa là tìm giá trị lớn nhất theo chiều ngang (trên mỗi hàng)\n",
        "# Đây chính là chữ số được dự đoán\n",
        "predicted_classes = np.argmax(predictions, axis=1)\n",
        "\n",
        "# Lấy nhãn thực tế của 10 ảnh đầu tiên\n",
        "true_classes = y_test[:10]\n",
        "\n",
        "# Hiển thị hình ảnh và kết quả dự đoán\n",
        "plt.figure(figsize=(15, 6))\n",
        "for i in range(10):\n",
        "    plt.subplot(2, 5, i+1)\n",
        "    plt.imshow(X_test[i], cmap='gray')\n",
        "\n",
        "    # Chọn màu dựa trên dự đoán đúng/sai\n",
        "    # Nếu dự đoán đúng: màu xanh, nếu sai: màu đỏ\n",
        "    color = 'green' if predicted_classes[i] == true_classes[i] else 'red'\n",
        "\n",
        "    plt.title(f\"Thực tế: {true_classes[i]}\\nDự đoán: {predicted_classes[i]}\",\n",
        "             color=color)\n",
        "    plt.axis('off')\n",
        "plt.tight_layout()\n",
        "plt.show()"
      ],
      "metadata": {
        "id": "O9K4H7IS1wqH"
      },
      "execution_count": null,
      "outputs": []
    },
    {
      "cell_type": "code",
      "source": [
        "# -------------------------------------------------------------\n",
        "# STEP 7: TẠO MA TRẬN NHẦM LẪN (CONFUSION MATRIX)\n",
        "# -------------------------------------------------------------\n",
        "# Import các công cụ cần thiết từ scikit-learn\n",
        "from sklearn.metrics import confusion_matrix\n",
        "import seaborn as sns\n",
        "\n",
        "# Dự đoán trên toàn bộ tập kiểm tra\n",
        "y_pred = model.predict(X_test)\n",
        "# Chuyển từ dạng one-hot về dạng số\n",
        "y_pred_classes = np.argmax(y_pred, axis=1)\n",
        "\n",
        "# Tạo ma trận nhầm lẫn\n",
        "# Ma trận nhầm lẫn cho biết số lượng mẫu của lớp thực tế i được dự đoán là lớp j\n",
        "cm = confusion_matrix(y_test, y_pred_classes)\n",
        "\n",
        "# Hiển thị ma trận nhầm lẫn\n",
        "plt.figure(figsize=(10, 8))\n",
        "# sns.heatmap(): Tạo biểu đồ heatmap\n",
        "# annot=True: Hiển thị giá trị trong mỗi ô\n",
        "# fmt=\"d\": Định dạng giá trị là số nguyên\n",
        "# cmap=\"Blues\": Sử dụng bảng màu xanh dương\n",
        "sns.heatmap(cm, annot=True, fmt=\"d\", cmap=\"Blues\",\n",
        "            xticklabels=range(10), yticklabels=range(10))\n",
        "plt.xlabel('Dự đoán')\n",
        "plt.ylabel('Thực tế')\n",
        "plt.title('Ma trận nhầm lẫn')\n",
        "plt.show()"
      ],
      "metadata": {
        "id": "TZ5sY83h2NLM"
      },
      "execution_count": null,
      "outputs": []
    },
    {
      "cell_type": "code",
      "source": [],
      "metadata": {
        "id": "b4X6XMjf2SCM"
      },
      "execution_count": null,
      "outputs": []
    },
    {
      "cell_type": "code",
      "source": [
        "# -------------------------------------------------------------\n",
        "# STEP 8: LƯU MÔ HÌNH (TÙY CHỌN)\n",
        "# -------------------------------------------------------------\n",
        "# Lưu mô hình để có thể sử dụng lại sau này\n",
        "# model.save(): Lưu toàn bộ mô hình (kiến trúc, trọng số, cấu hình)\n",
        "model.save('mnist_model.h5')\n",
        "print(\"\\nĐã lưu mô hình vào tệp 'mnist_model.h5'\")"
      ],
      "metadata": {
        "id": "Hp0zmXaP2X-V"
      },
      "execution_count": null,
      "outputs": []
    },
    {
      "cell_type": "code",
      "source": [
        "# -------------------------------------------------------------\n",
        "# STEP 9: KIỂM TRA MÔ HÌNH VỚI MỘT ẢNH TÙY Ý\n",
        "# -------------------------------------------------------------\n",
        "print(\"\\nStep 9: Kiểm tra mô hình với một ảnh tùy ý\")\n",
        "\n",
        "# Chọn một ảnh ngẫu nhiên từ tập kiểm tra\n",
        "import random\n",
        "random_idx = random.randint(0, len(X_test)-1)\n",
        "test_image = X_test[random_idx]\n",
        "\n",
        "# Hiển thị ảnh\n",
        "plt.figure(figsize=(4, 4))\n",
        "plt.imshow(test_image, cmap='gray')\n",
        "plt.title(f\"Nhãn thực tế: {y_test[random_idx]}\")\n",
        "plt.axis('off')\n",
        "plt.show()\n",
        "\n",
        "# Dự đoán\n",
        "# Cần reshape ảnh thành batch size 1 để phù hợp với đầu vào mô hình\n",
        "# np.expand_dims(): Thêm một chiều vào mảng\n",
        "single_prediction = model.predict(np.expand_dims(test_image, axis=0))\n",
        "# Lấy chỉ số của lớp có xác suất cao nhất\n",
        "predicted_class = np.argmax(single_prediction)\n",
        "\n",
        "print(f\"Ảnh thực tế là chữ số: {y_test[random_idx]}\")\n",
        "print(f\"Mô hình dự đoán là chữ số: {predicted_class}\")\n",
        "print(f\"Xác suất dự đoán cho mỗi chữ số:\")\n",
        "for i in range(10):\n",
        "    print(f\"  Chữ số {i}: {single_prediction[0][i]*100:.2f}%\")"
      ],
      "metadata": {
        "id": "yaIXaKSZ2grm"
      },
      "execution_count": null,
      "outputs": []
    }
  ]
}